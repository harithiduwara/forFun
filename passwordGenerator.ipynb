{
  "nbformat": 4,
  "nbformat_minor": 0,
  "metadata": {
    "colab": {
      "provenance": [],
      "authorship_tag": "ABX9TyNDOMaHhKU04yWsEV3ocfiH",
      "include_colab_link": true
    },
    "kernelspec": {
      "name": "python3",
      "display_name": "Python 3"
    },
    "language_info": {
      "name": "python"
    }
  },
  "cells": [
    {
      "cell_type": "markdown",
      "metadata": {
        "id": "view-in-github",
        "colab_type": "text"
      },
      "source": [
        "<a href=\"https://colab.research.google.com/github/harithiduwara/forFun/blob/main/passwordGenerator.ipynb\" target=\"_parent\"><img src=\"https://colab.research.google.com/assets/colab-badge.svg\" alt=\"Open In Colab\"/></a>"
      ]
    },
    {
      "cell_type": "code",
      "execution_count": null,
      "metadata": {
        "id": "0Gzcg87ewzBk"
      },
      "outputs": [],
      "source": [
        "import random\n",
        "import string"
      ]
    },
    {
      "cell_type": "code",
      "source": [
        "letters = string.ascii_letters\n",
        "numbers = string.digits # Same as \"0123456789\"\n",
        "special_chars = string.punctuation"
      ],
      "metadata": {
        "id": "dhLQNzWHw5s7"
      },
      "execution_count": 5,
      "outputs": []
    },
    {
      "cell_type": "code",
      "source": [
        "letter_num = int(input('How many letters would you like in your password? '))\n",
        "number_num = int(input('How many numbers would you like in your password? '))\n",
        "special_num = int(input('How many special characters would you like in your password? '))"
      ],
      "metadata": {
        "colab": {
          "base_uri": "https://localhost:8080/"
        },
        "id": "3-b7moW1zUC0",
        "outputId": "85e9a348-cd1f-444e-b9b4-ea3e284019af"
      },
      "execution_count": 6,
      "outputs": [
        {
          "name": "stdout",
          "output_type": "stream",
          "text": [
            "How many letters would you like in your password? 12\n",
            "How many numbers would you like in your password? 12\n",
            "How many special characters would you like in your password? 3\n"
          ]
        }
      ]
    },
    {
      "cell_type": "code",
      "source": [
        "# User input\n",
        "letter_num = int(input('How many letters would you like in your password? '))\n",
        "number_num = int(input('How many numbers would you like in your password? '))\n",
        "special_num = int(input('How many special characters would you like in your password? '))\n",
        "\n",
        "# Generating the password\n",
        "password = ''\n",
        "for i in range(letter_num):\n",
        "    password += random.choice(letters)\n",
        "for i in range(number_num):\n",
        "    password += random.choice(numbers)\n",
        "for i in range(special_num):\n",
        "    password += random.choice(special_chars)\n",
        "\n",
        "# Mixes the string\n",
        "password = ''.join(random.sample(password, len(password)))\n",
        "\n",
        "# Printing out the final password\n",
        "print('Password: ' + password)"
      ],
      "metadata": {
        "id": "_K1JoPY5zjh-",
        "colab": {
          "base_uri": "https://localhost:8080/"
        },
        "outputId": "b27bf678-4c06-4a95-8fbc-2c31c351975c"
      },
      "execution_count": 8,
      "outputs": [
        {
          "output_type": "stream",
          "name": "stdout",
          "text": [
            "How many letters would you like in your password? 12\n",
            "How many numbers would you like in your password? 12\n",
            "How many special characters would you like in your password? 5\n",
            "Password: 4gO469R1x9bI5_578;T?1/4f[UBsw\n"
          ]
        }
      ]
    }
  ]
}